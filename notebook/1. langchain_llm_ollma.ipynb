{
 "cells": [
  {
   "cell_type": "code",
   "execution_count": 11,
   "metadata": {},
   "outputs": [
    {
     "name": "stdout",
     "output_type": "stream",
     "text": [
      "Requirement already satisfied: pip in /Users/r00360/.pyenv/versions/3.10.12/envs/llm-langchain/lib/python3.10/site-packages (23.0.1)\n",
      "Collecting pip\n",
      "  Downloading pip-25.0.1-py3-none-any.whl (1.8 MB)\n",
      "\u001b[2K     \u001b[38;2;114;156;31m━━━━━━━━━━━━━━━━━━━━━━━━━━━━━━━━━━━━━━━━\u001b[0m \u001b[32m1.8/1.8 MB\u001b[0m \u001b[31m9.8 MB/s\u001b[0m eta \u001b[36m0:00:00\u001b[0m0m eta \u001b[36m0:00:01\u001b[0m[36m0:00:01\u001b[0m\n",
      "\u001b[?25hInstalling collected packages: pip\n",
      "  Attempting uninstall: pip\n",
      "    Found existing installation: pip 23.0.1\n",
      "    Uninstalling pip-23.0.1:\n",
      "      Successfully uninstalled pip-23.0.1\n",
      "Successfully installed pip-25.0.1\n",
      "Note: you may need to restart the kernel to use updated packages.\n",
      "Requirement already satisfied: python-dotenv in /Users/r00360/.pyenv/versions/3.10.12/envs/llm-langchain/lib/python3.10/site-packages (1.1.0)\n",
      "Requirement already satisfied: langchain_ollama in /Users/r00360/.pyenv/versions/3.10.12/envs/llm-langchain/lib/python3.10/site-packages (0.3.0)\n",
      "Requirement already satisfied: ollama<1,>=0.4.4 in /Users/r00360/.pyenv/versions/3.10.12/envs/llm-langchain/lib/python3.10/site-packages (from langchain_ollama) (0.4.7)\n",
      "Requirement already satisfied: langchain-core<1.0.0,>=0.3.47 in /Users/r00360/.pyenv/versions/3.10.12/envs/llm-langchain/lib/python3.10/site-packages (from langchain_ollama) (0.3.48)\n",
      "Requirement already satisfied: langsmith<0.4,>=0.1.125 in /Users/r00360/.pyenv/versions/3.10.12/envs/llm-langchain/lib/python3.10/site-packages (from langchain-core<1.0.0,>=0.3.47->langchain_ollama) (0.3.18)\n",
      "Requirement already satisfied: tenacity!=8.4.0,<10.0.0,>=8.1.0 in /Users/r00360/.pyenv/versions/3.10.12/envs/llm-langchain/lib/python3.10/site-packages (from langchain-core<1.0.0,>=0.3.47->langchain_ollama) (9.0.0)\n",
      "Requirement already satisfied: jsonpatch<2.0,>=1.33 in /Users/r00360/.pyenv/versions/3.10.12/envs/llm-langchain/lib/python3.10/site-packages (from langchain-core<1.0.0,>=0.3.47->langchain_ollama) (1.33)\n",
      "Requirement already satisfied: PyYAML>=5.3 in /Users/r00360/.pyenv/versions/3.10.12/envs/llm-langchain/lib/python3.10/site-packages (from langchain-core<1.0.0,>=0.3.47->langchain_ollama) (6.0.2)\n",
      "Requirement already satisfied: packaging<25,>=23.2 in /Users/r00360/.pyenv/versions/3.10.12/envs/llm-langchain/lib/python3.10/site-packages (from langchain-core<1.0.0,>=0.3.47->langchain_ollama) (24.2)\n",
      "Requirement already satisfied: typing-extensions>=4.7 in /Users/r00360/.pyenv/versions/3.10.12/envs/llm-langchain/lib/python3.10/site-packages (from langchain-core<1.0.0,>=0.3.47->langchain_ollama) (4.12.2)\n",
      "Requirement already satisfied: pydantic<3.0.0,>=2.5.2 in /Users/r00360/.pyenv/versions/3.10.12/envs/llm-langchain/lib/python3.10/site-packages (from langchain-core<1.0.0,>=0.3.47->langchain_ollama) (2.10.6)\n",
      "Requirement already satisfied: httpx<0.29,>=0.27 in /Users/r00360/.pyenv/versions/3.10.12/envs/llm-langchain/lib/python3.10/site-packages (from ollama<1,>=0.4.4->langchain_ollama) (0.28.1)\n",
      "Requirement already satisfied: anyio in /Users/r00360/.pyenv/versions/3.10.12/envs/llm-langchain/lib/python3.10/site-packages (from httpx<0.29,>=0.27->ollama<1,>=0.4.4->langchain_ollama) (4.9.0)\n",
      "Requirement already satisfied: certifi in /Users/r00360/.pyenv/versions/3.10.12/envs/llm-langchain/lib/python3.10/site-packages (from httpx<0.29,>=0.27->ollama<1,>=0.4.4->langchain_ollama) (2025.1.31)\n",
      "Requirement already satisfied: httpcore==1.* in /Users/r00360/.pyenv/versions/3.10.12/envs/llm-langchain/lib/python3.10/site-packages (from httpx<0.29,>=0.27->ollama<1,>=0.4.4->langchain_ollama) (1.0.7)\n",
      "Requirement already satisfied: idna in /Users/r00360/.pyenv/versions/3.10.12/envs/llm-langchain/lib/python3.10/site-packages (from httpx<0.29,>=0.27->ollama<1,>=0.4.4->langchain_ollama) (3.10)\n",
      "Requirement already satisfied: h11<0.15,>=0.13 in /Users/r00360/.pyenv/versions/3.10.12/envs/llm-langchain/lib/python3.10/site-packages (from httpcore==1.*->httpx<0.29,>=0.27->ollama<1,>=0.4.4->langchain_ollama) (0.14.0)\n",
      "Requirement already satisfied: jsonpointer>=1.9 in /Users/r00360/.pyenv/versions/3.10.12/envs/llm-langchain/lib/python3.10/site-packages (from jsonpatch<2.0,>=1.33->langchain-core<1.0.0,>=0.3.47->langchain_ollama) (3.0.0)\n",
      "Requirement already satisfied: orjson<4.0.0,>=3.9.14 in /Users/r00360/.pyenv/versions/3.10.12/envs/llm-langchain/lib/python3.10/site-packages (from langsmith<0.4,>=0.1.125->langchain-core<1.0.0,>=0.3.47->langchain_ollama) (3.10.16)\n",
      "Requirement already satisfied: requests<3,>=2 in /Users/r00360/.pyenv/versions/3.10.12/envs/llm-langchain/lib/python3.10/site-packages (from langsmith<0.4,>=0.1.125->langchain-core<1.0.0,>=0.3.47->langchain_ollama) (2.32.3)\n",
      "Requirement already satisfied: requests-toolbelt<2.0.0,>=1.0.0 in /Users/r00360/.pyenv/versions/3.10.12/envs/llm-langchain/lib/python3.10/site-packages (from langsmith<0.4,>=0.1.125->langchain-core<1.0.0,>=0.3.47->langchain_ollama) (1.0.0)\n",
      "Requirement already satisfied: zstandard<0.24.0,>=0.23.0 in /Users/r00360/.pyenv/versions/3.10.12/envs/llm-langchain/lib/python3.10/site-packages (from langsmith<0.4,>=0.1.125->langchain-core<1.0.0,>=0.3.47->langchain_ollama) (0.23.0)\n",
      "Requirement already satisfied: annotated-types>=0.6.0 in /Users/r00360/.pyenv/versions/3.10.12/envs/llm-langchain/lib/python3.10/site-packages (from pydantic<3.0.0,>=2.5.2->langchain-core<1.0.0,>=0.3.47->langchain_ollama) (0.7.0)\n",
      "Requirement already satisfied: pydantic-core==2.27.2 in /Users/r00360/.pyenv/versions/3.10.12/envs/llm-langchain/lib/python3.10/site-packages (from pydantic<3.0.0,>=2.5.2->langchain-core<1.0.0,>=0.3.47->langchain_ollama) (2.27.2)\n",
      "Requirement already satisfied: charset-normalizer<4,>=2 in /Users/r00360/.pyenv/versions/3.10.12/envs/llm-langchain/lib/python3.10/site-packages (from requests<3,>=2->langsmith<0.4,>=0.1.125->langchain-core<1.0.0,>=0.3.47->langchain_ollama) (3.4.1)\n",
      "Requirement already satisfied: urllib3<3,>=1.21.1 in /Users/r00360/.pyenv/versions/3.10.12/envs/llm-langchain/lib/python3.10/site-packages (from requests<3,>=2->langsmith<0.4,>=0.1.125->langchain-core<1.0.0,>=0.3.47->langchain_ollama) (2.3.0)\n",
      "Requirement already satisfied: exceptiongroup>=1.0.2 in /Users/r00360/.pyenv/versions/3.10.12/envs/llm-langchain/lib/python3.10/site-packages (from anyio->httpx<0.29,>=0.27->ollama<1,>=0.4.4->langchain_ollama) (1.2.2)\n",
      "Requirement already satisfied: sniffio>=1.1 in /Users/r00360/.pyenv/versions/3.10.12/envs/llm-langchain/lib/python3.10/site-packages (from anyio->httpx<0.29,>=0.27->ollama<1,>=0.4.4->langchain_ollama) (1.3.1)\n",
      "Note: you may need to restart the kernel to use updated packages.\n"
     ]
    }
   ],
   "source": [
    "%pip install --upgrade pip\n",
    "%pip install python-dotenv langchain_ollama"
   ]
  },
  {
   "cell_type": "code",
   "execution_count": 12,
   "metadata": {},
   "outputs": [
    {
     "data": {
      "text/plain": [
       "False"
      ]
     },
     "execution_count": 12,
     "metadata": {},
     "output_type": "execute_result"
    }
   ],
   "source": [
    "from dotenv import load_dotenv\n",
    "\n",
    "load_dotenv()\n"
   ]
  },
  {
   "cell_type": "code",
   "execution_count": 13,
   "metadata": {},
   "outputs": [],
   "source": [
    "from langchain_ollama import OllamaLLM\n",
    "\n",
    "model = OllamaLLM(model=\"llama3\")\n",
    "\n"
   ]
  },
  {
   "cell_type": "code",
   "execution_count": 14,
   "metadata": {},
   "outputs": [],
   "source": [
    "ai_message = model.invoke(\"너에 대해서 설명해줘\")\n"
   ]
  },
  {
   "cell_type": "code",
   "execution_count": 17,
   "metadata": {},
   "outputs": [
    {
     "data": {
      "text/plain": [
       "\"I'm happy to introduce myself! 😊\\n\\nMy name is LLaMA, and I'm a large language model developed by Meta AI that can understand and respond to human input in a conversational manner. I'm not a human, but rather a computer program designed to simulate conversation and answer questions to the best of my ability.\\n\\nI was trained on a massive dataset of text from various sources, including books, articles, and online conversations. This training enables me to generate responses that are natural-sounding and relevant to the topic at hand.\\n\\nSome of my key features include:\\n\\n1. **Conversational understanding**: I can comprehend complex sentences and respond accordingly.\\n2. **Contextual knowledge**: I have been trained on a vast amount of text data, which allows me to draw upon this knowledge when responding to questions or engaging in conversations.\\n3. **Creativity**: I can generate original responses, including stories, poems, and even humor.\\n4. **Multilingual support**: While my primary language is English, I can understand and respond to queries in several languages, including Spanish, French, German, Italian, Portuguese, Chinese, Japanese, Korean, and more.\\n\\nI'm constantly learning and improving through interactions with users like you! The more we chat, the better I'll become at understanding your thoughts and responding in a way that's relevant and helpful.\\n\\nSo, what would you like to talk about? 🤔\""
      ]
     },
     "execution_count": 17,
     "metadata": {},
     "output_type": "execute_result"
    }
   ],
   "source": [
    "ai_message"
   ]
  }
 ],
 "metadata": {
  "kernelspec": {
   "display_name": "llm-langchain",
   "language": "python",
   "name": "python3"
  },
  "language_info": {
   "codemirror_mode": {
    "name": "ipython",
    "version": 3
   },
   "file_extension": ".py",
   "mimetype": "text/x-python",
   "name": "python",
   "nbconvert_exporter": "python",
   "pygments_lexer": "ipython3",
   "version": "3.10.12"
  }
 },
 "nbformat": 4,
 "nbformat_minor": 2
}
